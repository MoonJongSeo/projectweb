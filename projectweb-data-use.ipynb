{
 "metadata": {
  "language_info": {
   "codemirror_mode": {
    "name": "ipython",
    "version": 3
   },
   "file_extension": ".py",
   "mimetype": "text/x-python",
   "name": "python",
   "nbconvert_exporter": "python",
   "pygments_lexer": "ipython3",
   "version": "3.7.9-final"
  },
  "orig_nbformat": 2,
  "kernelspec": {
   "name": "python3",
   "display_name": "Python 3",
   "language": "python"
  }
 },
 "nbformat": 4,
 "nbformat_minor": 2,
 "cells": [
  {
   "cell_type": "code",
   "execution_count": 1,
   "metadata": {},
   "outputs": [],
   "source": [
    "# surname.csv 불러오기\n",
    "\n",
    "import csv\n",
    "import re\n",
    "\n",
    "surname = []\n",
    "with open('surname.csv', encoding=\"utf-8\") as f:\n",
    "    reader = csv.reader(f)\n",
    "    next(reader)\n",
    "    \n",
    "    for line in reader:\n",
    "        surname.append(line)"
   ]
  },
  {
   "cell_type": "code",
   "execution_count": 2,
   "metadata": {},
   "outputs": [
    {
     "output_type": "stream",
     "name": "stdout",
     "text": [
      "최(催)\t- 17962\n",
      "최(崔)\t- 18034\n",
      "['최(崔)', '전국', '2333927']\n",
      "['최(崔)', '서울특별시', '447597']\n",
      "['최(崔)', '부산광역시', '152559']\n",
      "['최(崔)', '대구광역시', '109651']\n",
      "['최(崔)', '인천광역시', '136903']\n",
      "['최(崔)', '광주광역시', '68523']\n",
      "['최(崔)', '대전광역시', '64623']\n",
      "['최(崔)', '울산광역시', '57255']\n",
      "['최(崔)', '세종특별자치시', '8747']\n",
      "['최(崔)', '경기도', '575020']\n",
      "['최(崔)', '강원도', '93790']\n",
      "['최(崔)', '충청북도', '68548']\n",
      "['최(崔)', '충청남도', '97149']\n",
      "['최(崔)', '전라북도', '98409']\n",
      "['최(崔)', '전라남도', '79027']\n",
      "['최(崔)', '경상북도', '127339']\n",
      "['최(崔)', '경상남도', '137661']\n",
      "['최(崔)', '제주특별자치도', '11126']\n"
     ]
    }
   ],
   "source": [
    "def find():\n",
    "    select = input('검색 용어 : ')\n",
    "\n",
    "    select = select.replace(' ', '_').replace('씨', '')\n",
    "\n",
    "    x = ''\n",
    "    for i in range(0, len(surname)):\n",
    "        if surname[i][0].find(select) != -1:\n",
    "            if surname[i][0] != x:\n",
    "                x = surname[i][0]\n",
    "                print(surname[i][0] + '\\t- ' + str(i))\n",
    "\n",
    "def search(no):\n",
    "    while True:\n",
    "        print(surname[no])\n",
    "        \n",
    "        if surname[no + 1][0] != surname[no][0]:\n",
    "            break\n",
    "    \n",
    "        no += 1\n",
    "\n",
    "find()\n",
    "search(int(input('찾을 번호 : ')))"
   ]
  }
 ]
}