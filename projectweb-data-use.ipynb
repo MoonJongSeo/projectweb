{
 "metadata": {
  "language_info": {
   "codemirror_mode": {
    "name": "ipython",
    "version": 3
   },
   "file_extension": ".py",
   "mimetype": "text/x-python",
   "name": "python",
   "nbconvert_exporter": "python",
   "pygments_lexer": "ipython3",
   "version": "3.7.9-final"
  },
  "orig_nbformat": 2,
  "kernelspec": {
   "name": "python3",
   "display_name": "Python 3",
   "language": "python"
  }
 },
 "nbformat": 4,
 "nbformat_minor": 2,
 "cells": [
  {
   "cell_type": "code",
   "execution_count": 31,
   "metadata": {},
   "outputs": [],
   "source": [
    "# surname.csv 불러오기\n",
    "\n",
    "import csv\n",
    "import re\n",
    "\n",
    "surname = []\n",
    "with open('surname.csv', encoding=\"utf-8\") as f:\n",
    "    reader = csv.reader(f)\n",
    "    next(reader)\n",
    "    \n",
    "    for line in reader:\n",
    "        surname.append(line)"
   ]
  },
  {
   "cell_type": "code",
   "execution_count": 33,
   "metadata": {
    "tags": []
   },
   "outputs": [],
   "source": [
    "hanja = ''\n",
    "\n",
    "surname_db = []\n",
    "\n",
    "for i in range(0, len(surname)):\n",
    "\n",
    "    if str(surname[i][0]).find('(') != -1:\n",
    "        hanja = surname[i][0]\n",
    "        surname_db.append([hanja])\n",
    "        surname_db[i].append('Null')\n",
    "        # hangul = re.compile('[^ ㄱ-ㅣ가-힣]+')\n",
    "        # hanja = str(hangul.findall(surnametest[i][0])).strip('[\\']')\n",
    "    else:\n",
    "        # temp = [surname[i][0], '_', hanja]\n",
    "        # temp = ''.join(temp)\n",
    "        # surname[i][0] = str(temp)\n",
    "        surname_db.append([hanja])\n",
    "        surname_db[i].append(surname[i][0])\n",
    "    surname_db[i].append(surname[i][1])\n",
    "    surname_db[i].append(surname[i][2])"
   ]
  },
  {
   "cell_type": "code",
   "execution_count": 13,
   "metadata": {},
   "outputs": [
    {
     "output_type": "stream",
     "name": "stdout",
     "text": [
      "검색 용어 : 문\n",
      "문소_김(金)\t- 2057\n",
      "문화_류(柳)\t- 4484\n",
      "문(文)\t- 4959\n",
      "감천_문(文)\t- 4977\n",
      "강성_문(文)\t- 4992\n",
      "남원_문(文)\t- 5009\n",
      "남평_문(文)\t- 5027\n",
      "단성_문(文)\t- 5045\n",
      "기타_문(文)\t- 5063\n",
      "문의_박(朴)\t- 5385\n",
      "서문(西門)\t- 7432\n",
      "안음_서문(西門)\t- 7450\n",
      "기타_서문(西門)\t- 7468\n",
      "문경_송(宋)\t- 8332\n",
      "문화_유(柳)\t- 11060\n",
      "문경_전(錢)\t- 15446\n",
      "-----------------------------------------\n",
      "['남평_문(文)', '전국', '445946']\n",
      "['남평_문(文)', '서울특별시', '84476']\n",
      "['남평_문(文)', '부산광역시', '35577']\n",
      "['남평_문(文)', '대구광역시', '16824']\n",
      "['남평_문(文)', '인천광역시', '25875']\n",
      "['남평_문(文)', '광주광역시', '23309']\n",
      "['남평_문(文)', '대전광역시', '10998']\n",
      "['남평_문(文)', '울산광역시', '7882']\n",
      "['남평_문(文)', '세종특별자치시', '1282']\n",
      "['남평_문(文)', '경기도', '100298']\n",
      "['남평_문(文)', '강원도', '8368']\n",
      "['남평_문(文)', '충청북도', '7426']\n",
      "['남평_문(文)', '충청남도', '16418']\n",
      "['남평_문(文)', '전라북도', '20582']\n",
      "['남평_문(文)', '전라남도', '25122']\n",
      "['남평_문(文)', '경상북도', '15898']\n",
      "['남평_문(文)', '경상남도', '31711']\n",
      "['남평_문(文)', '제주특별자치도', '13900']\n"
     ]
    }
   ],
   "source": [
    "def find():\n",
    "    select = input('검색 용어 : ')\n",
    "\n",
    "    select = select.replace(' ', '_').replace('씨', '')\n",
    "\n",
    "    print('검색 용어 : ' + select)\n",
    "\n",
    "    x = ''\n",
    "    for i in range(0, len(surname)):\n",
    "        if surname[i][0].find(select) != -1:\n",
    "            if surname[i][0] != x:\n",
    "                x = surname[i][0]\n",
    "                print(surname[i][0] + '\\t- ' + str(i))\n",
    "\n",
    "def search(no):\n",
    "    while True:\n",
    "        print(surname[no])\n",
    "        \n",
    "        if surname[no + 1][0] != surname[no][0]:\n",
    "            break\n",
    "    \n",
    "        no += 1\n",
    "\n",
    "find()\n",
    "print(\"-----------------------------------------\")\n",
    "search(int(input('찾을 번호 : ')))"
   ]
  }
 ]
}