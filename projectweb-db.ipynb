{
 "metadata": {
  "language_info": {
   "codemirror_mode": {
    "name": "ipython",
    "version": 3
   },
   "file_extension": ".py",
   "mimetype": "text/x-python",
   "name": "python",
   "nbconvert_exporter": "python",
   "pygments_lexer": "ipython3",
   "version": "3.7.9-final"
  },
  "orig_nbformat": 2,
  "kernelspec": {
   "name": "python3",
   "display_name": "Python 3",
   "language": "python"
  }
 },
 "nbformat": 4,
 "nbformat_minor": 2,
 "cells": [
  {
   "cell_type": "code",
   "execution_count": 1,
   "metadata": {},
   "outputs": [],
   "source": [
    "# pip install finance-datareader\n",
    "import FinanceDataReader as fdr"
   ]
  },
  {
   "cell_type": "code",
   "execution_count": 2,
   "metadata": {},
   "outputs": [],
   "source": [
    "# population_15-19.csv 불러오기\n",
    "\n",
    "import csv\n",
    "import re\n",
    "\n",
    "population = []\n",
    "with open('population_15-19.csv', encoding=\"utf-8\") as f:\n",
    "    reader = csv.reader(f)\n",
    "    next(reader)\n",
    "    header = next(reader)\n",
    "    \n",
    "    for line in reader:\n",
    "        population.append(line)\n",
    "# 0 : 지역, 1 ~ 3 : 2015, 4 ~ 6 : 2016, 7 ~ 9 : 2017, 10 ~ 12 : 2018, 13 ~ 15 : 2019"
   ]
  },
  {
   "cell_type": "code",
   "execution_count": 11,
   "metadata": {
    "tags": []
   },
   "outputs": [],
   "source": [
    "# population[:5]"
   ]
  },
  {
   "cell_type": "code",
   "execution_count": 4,
   "metadata": {},
   "outputs": [],
   "source": [
    "import pymysql\n",
    "\n",
    "connection_info = { 'host': 'localhost', 'user': 'root', 'password': 'myb5370', 'db': 'projectwebdb', 'charset': 'utf8' }\n",
    "        \n",
    "conn = pymysql.connect(**connection_info)\n",
    "cursor = conn.cursor()\n",
    "\n",
    "sql = 'DELETE FROM population_past'\n",
    "cursor.execute(sql)\n",
    "\n",
    "sql = 'INSERT INTO population_past VALUES(%s, %s, %s, %s, %s, %s, %s, %s, %s, %s, %s, %s, %s, %s, %s, %s)'\n",
    "cursor.executemany(sql, population) # executemany : 여러 개의 데이터를 한 번에 일괄 삽입\n",
    "\n",
    "conn.commit()\n",
    "\n",
    "conn.close()"
   ]
  },
  {
   "cell_type": "code",
   "execution_count": 7,
   "metadata": {},
   "outputs": [],
   "source": [
    "# population_15-19.csv 불러오기\n",
    "\n",
    "import csv\n",
    "import re\n",
    "\n",
    "population67 = []\n",
    "with open('population_15-67.csv', encoding=\"utf-8\") as f:\n",
    "    reader = csv.reader(f)\n",
    "    next(reader)\n",
    "    \n",
    "    for line in reader:\n",
    "        population67.append(line)"
   ]
  },
  {
   "cell_type": "code",
   "execution_count": 11,
   "metadata": {},
   "outputs": [
    {
     "output_type": "execute_result",
     "data": {
      "text/plain": [
       "[['2067',\n",
       "  '36891071',\n",
       "  '18218830',\n",
       "  '18672241',\n",
       "  '2257600',\n",
       "  '16361979',\n",
       "  '18271492']]"
      ]
     },
     "metadata": {},
     "execution_count": 11
    }
   ],
   "source": [
    "population67[:1]\n",
    "# create table population_future (\n",
    "# year int,\n",
    "# total int,\n",
    "# man int,\n",
    "# woman int,\n",
    "# total0_14 int,\n",
    "# total15_64 int,\n",
    "# total65_ int\n",
    "# );"
   ]
  },
  {
   "cell_type": "code",
   "execution_count": 12,
   "metadata": {},
   "outputs": [],
   "source": [
    "import pymysql\n",
    "\n",
    "connection_info = { 'host': 'localhost', 'user': 'root', 'password': 'myb5370', 'db': 'projectwebdb', 'charset': 'utf8' }\n",
    "        \n",
    "conn = pymysql.connect(**connection_info)\n",
    "cursor = conn.cursor()\n",
    "\n",
    "sql = 'DELETE FROM population_future'\n",
    "cursor.execute(sql)\n",
    "\n",
    "sql = 'INSERT INTO population_future VALUES(%s, %s, %s, %s, %s, %s, %s)'\n",
    "cursor.executemany(sql, population67) # executemany : 여러 개의 데이터를 한 번에 일괄 삽입\n",
    "\n",
    "conn.commit()\n",
    "\n",
    "conn.close()"
   ]
  },
  {
   "cell_type": "code",
   "execution_count": 6,
   "metadata": {},
   "outputs": [],
   "source": [
    "# surname.csv 불러오기\n",
    "\n",
    "import csv\n",
    "import re\n",
    "\n",
    "surname = []\n",
    "with open('surname.csv', encoding=\"utf-8\") as f:\n",
    "    reader = csv.reader(f)\n",
    "    next(reader)\n",
    "    \n",
    "    for line in reader:\n",
    "        surname.append(line)"
   ]
  },
  {
   "cell_type": "code",
   "execution_count": 7,
   "metadata": {},
   "outputs": [
    {
     "output_type": "execute_result",
     "data": {
      "text/plain": [
       "[['가(賈)', '전국', '9936'],\n",
       " ['가(賈)', '서울특별시', '1606'],\n",
       " ['가(賈)', '부산광역시', '118'],\n",
       " ['가(賈)', '대구광역시', '46'],\n",
       " ['가(賈)', '인천광역시', '1349']]"
      ]
     },
     "metadata": {},
     "execution_count": 7
    }
   ],
   "source": [
    "surname[:5]\n",
    "# create table surname2015 (\n",
    "# name varchar(10),\n",
    "# sur varchar(10),\n",
    "# region varchar(10),\n",
    "# total int\n",
    "# );"
   ]
  },
  {
   "cell_type": "code",
   "execution_count": 8,
   "metadata": {},
   "outputs": [],
   "source": [
    "hanja = ''\n",
    "\n",
    "surname_db = []\n",
    "\n",
    "for i in range(0, len(surname)):\n",
    "\n",
    "    if str(surname[i][0]).find('(') != -1:\n",
    "        hanja = surname[i][0]\n",
    "        surname_db.append([hanja])\n",
    "        surname_db[i].append('Null')\n",
    "    else:\n",
    "        surname_db.append([hanja])\n",
    "        surname_db[i].append(surname[i][0])\n",
    "    surname_db[i].append(surname[i][1])\n",
    "    surname_db[i].append(surname[i][2])"
   ]
  },
  {
   "cell_type": "code",
   "execution_count": 9,
   "metadata": {},
   "outputs": [
    {
     "output_type": "execute_result",
     "data": {
      "text/plain": [
       "[['가(賈)', 'Null', '전국', '9936'],\n",
       " ['가(賈)', 'Null', '서울특별시', '1606'],\n",
       " ['가(賈)', 'Null', '부산광역시', '118'],\n",
       " ['가(賈)', 'Null', '대구광역시', '46'],\n",
       " ['가(賈)', 'Null', '인천광역시', '1349'],\n",
       " ['가(賈)', 'Null', '광주광역시', '21'],\n",
       " ['가(賈)', 'Null', '대전광역시', '463'],\n",
       " ['가(賈)', 'Null', '울산광역시', '50'],\n",
       " ['가(賈)', 'Null', '세종특별자치시', '26'],\n",
       " ['가(賈)', 'Null', '경기도', '2649'],\n",
       " ['가(賈)', 'Null', '강원도', '136'],\n",
       " ['가(賈)', 'Null', '충청북도', '164'],\n",
       " ['가(賈)', 'Null', '충청남도', '2951'],\n",
       " ['가(賈)', 'Null', '전라북도', '88'],\n",
       " ['가(賈)', 'Null', '전라남도', '48'],\n",
       " ['가(賈)', 'Null', '경상북도', '85'],\n",
       " ['가(賈)', 'Null', '경상남도', '108'],\n",
       " ['가(賈)', 'Null', '제주특별자치도', '28'],\n",
       " ['가(賈)', '소주', '전국', '8798'],\n",
       " ['가(賈)', '소주', '서울특별시', '1408']]"
      ]
     },
     "metadata": {},
     "execution_count": 9
    }
   ],
   "source": [
    "surname_db[:20]"
   ]
  },
  {
   "cell_type": "code",
   "execution_count": 10,
   "metadata": {},
   "outputs": [],
   "source": [
    "import pymysql\n",
    "\n",
    "connection_info = { 'host': 'localhost', 'user': 'root', 'password': 'myb5370', 'db': 'projectwebdb', 'charset': 'utf8' }\n",
    "        \n",
    "conn = pymysql.connect(**connection_info)\n",
    "cursor = conn.cursor()\n",
    "\n",
    "sql = 'DELETE FROM surname2015'\n",
    "cursor.execute(sql)\n",
    "\n",
    "sql = 'INSERT INTO surname2015 VALUES(%s, %s, %s, %s)'\n",
    "cursor.executemany(sql, surname_db) # executemany : 여러 개의 데이터를 한 번에 일괄 삽입\n",
    "\n",
    "conn.commit()\n",
    "\n",
    "conn.close()"
   ]
  },
  {
   "cell_type": "code",
   "execution_count": 47,
   "metadata": {},
   "outputs": [],
   "source": [
    "# age-gender.csv 불러오기\n",
    "\n",
    "import csv\n",
    "import re\n",
    "\n",
    "age_gender = []\n",
    "with open('age_gender.csv', encoding=\"utf-8\") as f:\n",
    "    reader = csv.reader(f)\n",
    "    next(reader)\n",
    "    next(reader)\n",
    "    \n",
    "    for line in reader:\n",
    "        age_gender.append(line)"
   ]
  },
  {
   "cell_type": "code",
   "execution_count": 48,
   "metadata": {},
   "outputs": [
    {
     "output_type": "execute_result",
     "data": {
      "text/plain": [
       "[['전국', '합계', '25952070', '25827133'],\n",
       " ['전국', '0~4세', '965211', '916337'],\n",
       " ['전국', '5~9세', '1168966', '1107651'],\n",
       " ['전국', '10~14세', '1152447', '1081568'],\n",
       " ['전국', '15~19세', '1371661', '1265680'],\n",
       " ['전국', '20~24세', '1806316', '1607340'],\n",
       " ['전국', '25~29세', '1938641', '1673864'],\n",
       " ['전국', '30~34세', '1745076', '1559603'],\n",
       " ['전국', '35~39세', '2070152', '1929592'],\n",
       " ['전국', '40~44세', '1974200', '1881203']]"
      ]
     },
     "metadata": {},
     "execution_count": 48
    }
   ],
   "source": [
    "age_gender[:10]\n",
    "# create table age_gender (\n",
    "# region varchar(10),\n",
    "# age varchar(10),\n",
    "# man int,\n",
    "# woman int\n",
    "# );"
   ]
  },
  {
   "cell_type": "code",
   "execution_count": 49,
   "metadata": {},
   "outputs": [],
   "source": [
    "import pymysql\n",
    "\n",
    "connection_info = { 'host': 'localhost', 'user': 'root', 'password': 'myb5370', 'db': 'projectwebdb', 'charset': 'utf8' }\n",
    "        \n",
    "conn = pymysql.connect(**connection_info)\n",
    "cursor = conn.cursor()\n",
    "\n",
    "sql = 'DELETE FROM age_gender'\n",
    "cursor.execute(sql)\n",
    "\n",
    "sql = 'INSERT INTO age_gender VALUES(%s, %s, %s, %s)'\n",
    "cursor.executemany(sql, age_gender) # executemany : 여러 개의 데이터를 한 번에 일괄 삽입\n",
    "\n",
    "conn.commit()\n",
    "\n",
    "conn.close()"
   ]
  }
 ]
}